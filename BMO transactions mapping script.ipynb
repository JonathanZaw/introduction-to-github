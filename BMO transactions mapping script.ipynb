{
 "cells": [
  {
   "cell_type": "markdown",
   "id": "09c1ac62",
   "metadata": {},
   "source": [
    "# This script is daily BMO Transactions update for Shay"
   ]
  },
  {
   "cell_type": "code",
   "execution_count": 1,
   "id": "ca228e0c",
   "metadata": {},
   "outputs": [],
   "source": [
    "import os\n",
    "import pandas as pd\n",
    "import re"
   ]
  },
  {
   "cell_type": "code",
   "execution_count": 2,
   "id": "eacdc394",
   "metadata": {},
   "outputs": [],
   "source": [
    "#specify the folder path where the source files are located\n",
    "file_path = r'C:\\Users\\WRFI\\OneDrive - Western Restaurant Franchise Inc\\Documents - WRFIFiles\\WRFI ACCOUNTING\\E.  BANK & SALES\\2024\\A. BMO\\P2\\WRFI P2 BMO transactions.xlsx'\n",
    "sheet_name = 'Sheet1'"
   ]
  },
  {
   "cell_type": "code",
   "execution_count": 3,
   "id": "fd85a156",
   "metadata": {},
   "outputs": [],
   "source": [
    "df = pd.read_excel(file_path, sheet_name=sheet_name)"
   ]
  },
  {
   "cell_type": "code",
   "execution_count": 4,
   "id": "2fe2d235",
   "metadata": {},
   "outputs": [],
   "source": [
    "#specify the folder path where the transaction mapping files are located\n",
    "mapping_data = r'C:\\Users\\WRFI\\OneDrive - Western Restaurant Franchise Inc\\Documents - WRFIFiles\\WRFI ACCOUNTING\\E.  BANK & SALES\\2023\\A. BMO\\BMO transactions_mapping.xlsx'"
   ]
  },
  {
   "cell_type": "code",
   "execution_count": 5,
   "id": "cd175df5",
   "metadata": {},
   "outputs": [],
   "source": [
    "mapping_df = pd.read_excel(mapping_data)"
   ]
  },
  {
   "cell_type": "code",
   "execution_count": 6,
   "id": "4382751e",
   "metadata": {},
   "outputs": [
    {
     "data": {
      "text/plain": [
       "Index([             'Processing Date',            'Processing Date.1',\n",
       "            'Transaction Description',                     'Cust Ref',\n",
       "                           'Bank Ref',            -2543127.4300000006,\n",
       "                    3135412.569999998,                 'Credit/Debit',\n",
       "                'Transaction Details',                   'Entry Type',\n",
       "                             'Respo.',                       'Posted',\n",
       "                            'Recon. ', 'Txn details brginning 4 char'],\n",
       "      dtype='object')"
      ]
     },
     "execution_count": 6,
     "metadata": {},
     "output_type": "execute_result"
    }
   ],
   "source": [
    "df.columns"
   ]
  },
  {
   "cell_type": "code",
   "execution_count": 7,
   "id": "29224c38",
   "metadata": {},
   "outputs": [
    {
     "data": {
      "text/plain": [
       "Index(['Transaction Description', 'Full Details', 'Details (start with)',\n",
       "       'Details (ends with)', 'Category', 'Notes', 'Unnamed: 6',\n",
       "       'Unsure Category'],\n",
       "      dtype='object')"
      ]
     },
     "execution_count": 7,
     "metadata": {},
     "output_type": "execute_result"
    }
   ],
   "source": [
    "mapping_df.columns"
   ]
  },
  {
   "cell_type": "code",
   "execution_count": 8,
   "id": "e89f4a11",
   "metadata": {},
   "outputs": [],
   "source": [
    "def apply_logic(df, mapping_df):\n",
    "    if df['Transaction Description'] in ['Merchant Deposit  / Adjustment', 'Merchant Deposit / Adjustment']:\n",
    "        return \"Mobile\"\n",
    "    elif df['Transaction Description'] in ['FCCS Deposit / Correction', 'Credit Memo']:\n",
    "        return \"Cash Deposits\"\n",
    "    elif df['Transaction Description'] == \"Cheque\":\n",
    "        return \"Cheque beanworks\"\n",
    "    elif df['Transaction Description'] == \"Service Charge\":\n",
    "        return \"Fee\"\n",
    "    elif df['Transaction Description'] == \"Interest / Adjustment\":\n",
    "        return \"Loan\"\n",
    "    elif not df['Transaction Details'] or df['Transaction Details'] not in mapping_df['Full Details'].tolist():\n",
    "        left_six_J = df['Transaction Details'][:6]\n",
    "        right_six_J = df['Transaction Details'][-24:]\n",
    "        matching_rows_left = mapping_df[(mapping_df['Transaction Description'] == df['Transaction Description']) & (mapping_df['Details (start with)'].str[:6] == left_six_J)]\n",
    "        if not matching_rows_left.empty:\n",
    "            return matching_rows_left.iloc[0]['Category']\n",
    "        matching_rows_right = mapping_df[(mapping_df['Transaction Description'] == df['Transaction Description']) & (mapping_df['Details (start with)'].str[-24:] == right_six_J)]\n",
    "        if not matching_rows_right.empty:\n",
    "            return matching_rows_right.iloc[0]['Category']            \n",
    "    elif not df['Transaction Details'] or df['Transaction Details'] in mapping_df['Full Details'].tolist():\n",
    "        matching_rows = mapping_df[(mapping_df['Transaction Description'] == df['Transaction Description']) & (mapping_df['Full Details'] == df['Transaction Details'])]\n",
    "        if not matching_rows.empty:\n",
    "            return matching_rows.iloc[0]['Category']\n",
    "    return ''"
   ]
  },
  {
   "cell_type": "code",
   "execution_count": 9,
   "id": "3da52e9d",
   "metadata": {},
   "outputs": [],
   "source": [
    "df['Entry Type'] = df.apply(lambda row: apply_logic(row, mapping_df), axis=1)"
   ]
  },
  {
   "cell_type": "code",
   "execution_count": 10,
   "id": "f51f6aab",
   "metadata": {},
   "outputs": [],
   "source": [
    "def apply_name(df):\n",
    "    if df['Entry Type'] == \"Accounts payable\":\n",
    "        return \"Shauna\"\n",
    "    else:\n",
    "        return \"Shay\"\n",
    "    return ''"
   ]
  },
  {
   "cell_type": "code",
   "execution_count": 11,
   "id": "d4e0c149",
   "metadata": {},
   "outputs": [],
   "source": [
    "df['Respo.'] = df.apply(lambda row: apply_name(row), axis=1)"
   ]
  },
  {
   "cell_type": "code",
   "execution_count": 12,
   "id": "96ca9acc",
   "metadata": {},
   "outputs": [],
   "source": [
    "# Write the DataFrame to an Excel file\n",
    "excel_output_path = r'C:\\Users\\WRFI\\OneDrive - Western Restaurant Franchise Inc\\Documents - WRFIFiles\\WRFI ACCOUNTING\\E.  BANK & SALES\\2024\\A. BMO\\P2\\WRFI P2 BMO transactions - coded with python.xlsx'\n",
    "df.to_excel(excel_output_path, index=False)"
   ]
  },
  {
   "cell_type": "code",
   "execution_count": null,
   "id": "e3f75fc6",
   "metadata": {},
   "outputs": [],
   "source": []
  }
 ],
 "metadata": {
  "kernelspec": {
   "display_name": "Python 3 (ipykernel)",
   "language": "python",
   "name": "python3"
  },
  "language_info": {
   "codemirror_mode": {
    "name": "ipython",
    "version": 3
   },
   "file_extension": ".py",
   "mimetype": "text/x-python",
   "name": "python",
   "nbconvert_exporter": "python",
   "pygments_lexer": "ipython3",
   "version": "3.11.5"
  },
  "widgets": {
   "application/vnd.jupyter.widget-state+json": {
    "state": {},
    "version_major": 2,
    "version_minor": 0
   }
  }
 },
 "nbformat": 4,
 "nbformat_minor": 5
}
